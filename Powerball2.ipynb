{
 "cells": [
  {
   "cell_type": "code",
   "execution_count": 2,
   "id": "1fd0a7ad",
   "metadata": {},
   "outputs": [
    {
     "name": "stdout",
     "output_type": "stream",
     "text": [
      "Enter your powerball numbers(6 digits): 1,4,5,8,9,11\n",
      "The winning numbers are:  [6, 8, 23, 24, 39, 23]\n",
      "Maybe next time\n"
     ]
    }
   ],
   "source": [
    "import random \n",
    "user_number=(input(\"Enter your powerball numbers(6 digits): \"))\n",
    "#user will enter their powerball numbers\n",
    "def Powerball():#define a function as powerball \n",
    "    result = []\n",
    "    for i in range(5):#range 5 for the 5 numbers at beggining\n",
    "        number = random.randint(1,69)#range 1-69\n",
    "        while (number in result): #while loop that checks number in result\n",
    "            number = random.randint(1,69)\n",
    "        result.append(number)#add random number to result\n",
    "    result.sort() #orders from lowest to highest\n",
    "    result.append(random.randint(1,26)) #add final digit between 1-26 and add it to end\n",
    "    return result\n",
    "\n",
    "if True: \n",
    "    result = Powerball()        \n",
    "    print(\"The winning numbers are: \",result) #print winning numbers\n",
    "if user_number==result: #checks if they match\n",
    "    print(\"You're a winner!\")\n",
    "else: #if they don't match, it will print this statement instead\n",
    "    print(\"Maybe next time\")"
   ]
  }
 ],
 "metadata": {
  "kernelspec": {
   "display_name": "Python 3",
   "language": "python",
   "name": "python3"
  },
  "language_info": {
   "codemirror_mode": {
    "name": "ipython",
    "version": 3
   },
   "file_extension": ".py",
   "mimetype": "text/x-python",
   "name": "python",
   "nbconvert_exporter": "python",
   "pygments_lexer": "ipython3",
   "version": "3.8.8"
  }
 },
 "nbformat": 4,
 "nbformat_minor": 5
}
